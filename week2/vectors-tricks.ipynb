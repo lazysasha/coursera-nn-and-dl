{
 "cells": [
  {
   "cell_type": "code",
   "execution_count": 6,
   "metadata": {
    "collapsed": true
   },
   "outputs": [
    {
     "name": "stdout",
     "output_type": "stream",
     "text": [
      "[-0.5988369   1.12399344  0.15402631 -0.84357438 -0.65801459]\n",
      "(5,)\n",
      "[-0.5988369   1.12399344  0.15402631 -0.84357438 -0.65801459]\n",
      "2.79029192122508\n"
     ]
    }
   ],
   "source": [
    "import numpy as np\n",
    "\n",
    "a = np.random.randn(5)\n",
    "\n",
    "print(a)\n",
    "print(a.shape) # a rank 1 array: neither a column nor a row vector!\n",
    "print(a.T)\n",
    "\n",
    "print(np.dot(a, a.T)) # maybe gives a matrix? Nope! Just a number!\n",
    "\n",
    "a = a.reshape((5, 1)) # allows reshaping rank one array into a vector!"
   ]
  },
  {
   "cell_type": "code",
   "execution_count": 13,
   "outputs": [
    {
     "name": "stdout",
     "output_type": "stream",
     "text": [
      "[[-0.75138476]\n",
      " [ 0.74723639]\n",
      " [ 0.6271882 ]\n",
      " [-1.05911506]\n",
      " [ 1.22348491]]\n",
      "(5, 1)\n",
      "[[-0.75138476  0.74723639  0.6271882  -1.05911506  1.22348491]]\n",
      "(1, 5)\n",
      "[[ 0.56457906 -0.56146204 -0.47125966  0.79580292 -0.91930792]\n",
      " [-0.56146204  0.55836223  0.46865785 -0.79140932  0.91423245]\n",
      " [-0.47125966  0.46865785  0.39336504 -0.66426447  0.7673553 ]\n",
      " [ 0.79580292 -0.79140932 -0.66426447  1.12172472 -1.29581129]\n",
      " [-0.91930792  0.91423245  0.7673553  -1.29581129  1.49691531]]\n",
      "(5, 5)\n"
     ]
    }
   ],
   "source": [
    "a = np.random.randn(5, 1)\n",
    "print(a)\n",
    "print(a.shape)\n",
    "print(a.T)\n",
    "print(a.T.shape)\n",
    "\n",
    "dot = np.dot(a, a.T)\n",
    "print(dot)\n",
    "print(dot.shape)\n",
    "\n",
    "# Conclusion: do not use rank 1 arrays!"
   ],
   "metadata": {
    "collapsed": false,
    "pycharm": {
     "name": "#%%\n"
    }
   }
  },
  {
   "cell_type": "code",
   "execution_count": 14,
   "outputs": [],
   "source": [
    "# helps to make sure the dimension is as expected:\n",
    "assert(a.shape == (5,1))\n"
   ],
   "metadata": {
    "collapsed": false,
    "pycharm": {
     "name": "#%%\n"
    }
   }
  }
 ],
 "metadata": {
  "kernelspec": {
   "display_name": "Python 3",
   "language": "python",
   "name": "python3"
  },
  "language_info": {
   "codemirror_mode": {
    "name": "ipython",
    "version": 2
   },
   "file_extension": ".py",
   "mimetype": "text/x-python",
   "name": "python",
   "nbconvert_exporter": "python",
   "pygments_lexer": "ipython2",
   "version": "2.7.6"
  }
 },
 "nbformat": 4,
 "nbformat_minor": 0
}